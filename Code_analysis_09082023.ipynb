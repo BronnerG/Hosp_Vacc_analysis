{
 "cells": [
  {
   "cell_type": "code",
   "execution_count": null,
   "id": "4c8e5d08",
   "metadata": {},
   "outputs": [],
   "source": [
    "## Libraries \n",
    "import os\n",
    "import pandas as pd\n",
    "import numpy as np\n",
    "import matplotlib.pyplot as plt"
   ]
  },
  {
   "cell_type": "code",
   "execution_count": null,
   "id": "f39ac455",
   "metadata": {},
   "outputs": [],
   "source": [
    "## Description of the dataset\n",
    "\n",
    "print('Number of rows and columns')\n",
    "print(data.shape)\n",
    "print('\\n')\n",
    "\n",
    "print('Number and list of countries')\n",
    "print(data['slider_country'].nunique())\n",
    "print(data['slider_country'].unique())\n",
    "print('\\n')\n"
   ]
  },
  {
   "cell_type": "code",
   "execution_count": null,
   "id": "c036526d",
   "metadata": {},
   "outputs": [],
   "source": [
    "## Restricting data to adults \n",
    "\n",
    "print('Number of observations with missing age data')\n",
    "print(data.loc[data['age'].isnull(), : ].shape)\n",
    "\n",
    "print('Number of observations for children')\n",
    "print(data.loc[(data['age'].notnull()) & (data['age'] < 18), : ].shape)\n",
    "\n",
    "\n",
    "data = data.loc[(data['age'].notnull()) & (data['age'] >= 18), : ].copy().reset_index(drop=True)\n",
    "\n",
    "print('Number of observations after removing those younger than 18 years')\n",
    "print(data.shape[0])\n"
   ]
  },
  {
   "cell_type": "code",
   "execution_count": null,
   "id": "f0dee148",
   "metadata": {},
   "outputs": [],
   "source": [
    "## Restricting dataset to 01/03/2021 or later\n",
    "\n",
    "\n",
    "print('Observations with admission before March 2021')\n",
    "print(data.loc[(data['date_admit_TIME'] < pd.to_datetime('2021-03-01')) & (data['date_admit_TIME'].notnull()), : ].shape)\n",
    "print('\\n')\n",
    "\n",
    "print('Creating dataset with patients admitted on or after March 2021')\n",
    "data = data.loc[(data['date_admit_TIME'] >= pd.to_datetime('2021-03-01')) & \\\n",
    "                (data['date_admit_TIME'].notnull()), : ].copy().reset_index(drop=True)\n",
    "\n",
    "print(data.shape)\n"
   ]
  },
  {
   "cell_type": "code",
   "execution_count": null,
   "id": "c83ff26e",
   "metadata": {},
   "outputs": [],
   "source": [
    "## Restricting analysis to patients who had non-missing information on vaccination variable\n",
    "\n",
    "print('Variable vaccination_ever')\n",
    "print(data['vaccination_ever'].value_counts())\n",
    "print('\\n')\n",
    "\n",
    "data = data.loc[(data['vaccination_ever'] != 'Unknown') & \\\n",
    "                (data['vaccination_ever'].notnull()), : ].copy().reset_index(drop=True)\n",
    "\n",
    "print(data.shape)"
   ]
  },
  {
   "cell_type": "code",
   "execution_count": null,
   "id": "45c6f124",
   "metadata": {
    "scrolled": true
   },
   "outputs": [],
   "source": [
    "## Creating table with frequency of vaccination by country\n",
    "\n",
    "results_table = pd.crosstab(data['slider_country'], \n",
    "                            data['vaccination_ever'])\n"
   ]
  },
  {
   "cell_type": "code",
   "execution_count": null,
   "id": "252f65f8",
   "metadata": {},
   "outputs": [],
   "source": [
    "## Creating table with frequency of ICU admission \n",
    "\n",
    "ICU_distribution = pd.crosstab(data['slider_country'], data['slider_icu_ever'])\n"
   ]
  },
  {
   "cell_type": "code",
   "execution_count": null,
   "id": "8e379412",
   "metadata": {},
   "outputs": [],
   "source": [
    "## Distribution of observations by SARS-CoV-2 variant-defined epidemiological period\n",
    "## Each '_period' variable coded as 0 and 1\n",
    "\n",
    "print(data['Delta_period'].value_counts())\n",
    "print((data['Delta_period'].value_counts())/(data.shape[0]))\n",
    "print('\\n')\n",
    "\n",
    "print(data['Omicron_period'].value_counts())\n",
    "print((data['Omicron_period'].value_counts())/(data.shape[0]))\n",
    "print('\\n')\n",
    "\n",
    "print(data['Alpha_period'].value_counts())\n",
    "print((data['Alpha_period'].value_counts())/(data.shape[0]))\n",
    "print('\\n')\n"
   ]
  },
  {
   "cell_type": "code",
   "execution_count": null,
   "id": "d18dacdd",
   "metadata": {},
   "outputs": [],
   "source": [
    "## Describing vaccination variables\n",
    "\n",
    "print('Variable vaccination_ever')\n",
    "print(data['vaccination_ever'].value_counts())\n",
    "print('\\n\\n')\n",
    "\n",
    "print(pd.crosstab(data['vaccination_ever'], data['calendar.year.admit']))\n",
    "print('\\n\\n')"
   ]
  },
  {
   "cell_type": "code",
   "execution_count": null,
   "id": "3e7a7631",
   "metadata": {},
   "outputs": [],
   "source": [
    "## Distribution of vaccine types for the first dose (excluding observations with 'Unknown vaccine type')\n",
    "\n",
    "print(data.loc[data['type_dose_1'] != 'Unknown vaccine', 'type_dose_1'].value_counts())\n"
   ]
  },
  {
   "cell_type": "code",
   "execution_count": null,
   "id": "dd519a4e",
   "metadata": {},
   "outputs": [],
   "source": [
    "## Age comparisons\n",
    "\n",
    "print(np.percentile(data.loc[data['vaccination_ever'] == 'Yes', 'age'], [50, 25, 75]))\n",
    "print(np.percentile(data.loc[data['vaccination_ever'] == 'No', 'age'], [50, 25, 75]))"
   ]
  },
  {
   "cell_type": "code",
   "execution_count": null,
   "id": "e47b1476",
   "metadata": {},
   "outputs": [],
   "source": [
    "## Table country specific age\n",
    "\n",
    "Data_country_age = pd.DataFrame()\n",
    "\n",
    "for country in sorted(list(data['slider_country'].unique())):\n",
    "    temp_data = data.loc[data['slider_country'] == country, : ].copy()\n",
    "    \n",
    "    if temp_data.shape[0] >= 100:\n",
    "        v50, v25, v75 = np.percentile(temp_data.loc[temp_data['vaccination_ever'] == 'Yes', 'age'], [50, 25, 75])\n",
    "        uv50, uv25, uv75 = np.percentile(temp_data.loc[temp_data['vaccination_ever'] == 'No', 'age'], [50, 25, 75])\n",
    "        \n",
    "        text_v = str(int(v50)) + ' (' + str(int(v25)) + ' - ' + str(int(v75)) + ')'\n",
    "        text_uv = str(int(uv50)) + ' (' + str(int(uv25)) + ' - ' + str(int(uv75)) + ')'\n",
    "        \n",
    "        Data_country_age = pd.concat([Data_country_age, pd.DataFrame({'country' : [country],\n",
    "                                                                     'Vaccinated' : [text_v],\n",
    "                                                                     'Unvaccinated' : [text_uv]})])"
   ]
  },
  {
   "cell_type": "code",
   "execution_count": null,
   "id": "2f108fea",
   "metadata": {},
   "outputs": [],
   "source": [
    "## Frequency of at least one symptom\n",
    "## list_symptoms_overall is a list that contains all variables that represent symptoms in the database\n",
    "\n",
    "print(len(list_symptoms_overall))\n",
    "\n",
    "data['nb_symptom_info'] = data[list_symptoms_overall].notnull().sum(axis=1)\n",
    "data['nb_symptom_pos'] = data[list_symptoms_overall].sum(axis=1)\n",
    "\n",
    "check_list_s = list_symptoms_overall + ['nb_symptom_info', 'nb_symptom_pos']\n",
    "\n",
    "## Checking that variables created corresponds to the number of symptom variables with non-missing information, and \n",
    "## number of variables with value 1 \n",
    "\n",
    "data[check_list_s]"
   ]
  },
  {
   "cell_type": "code",
   "execution_count": null,
   "id": "74d42599",
   "metadata": {},
   "outputs": [],
   "source": [
    "## Creating variables that contain the number of comorbidities variables with non-missing information and with value 1 \n",
    "\n",
    "print(len(list_comorb_overall))\n",
    "\n",
    "data['nb_common_comorb_info'] = data[list_comorb_overall].notnull().sum(axis = 1)\n",
    "data['nb_common_comorb_pos'] = data[list_comorb_overall].sum(axis = 1)\n",
    "\n",
    "check_list_c = list_comorb_overall + ['nb_common_comorb_info', 'nb_common_comorb_pos']\n",
    "## Checking that that the variables created contain the right information\n",
    "data[check_list_c]"
   ]
  },
  {
   "cell_type": "code",
   "execution_count": null,
   "id": "d7d7a15e",
   "metadata": {},
   "outputs": [],
   "source": [
    "## Frequency of non-missing comorbidity information (by vaccination status)\n",
    "\n",
    "print(data.loc[data['nb_common_comorb_info'] > 0, : ].shape[0])\n",
    "print('\\n')\n",
    "\n",
    "print(data.loc[(data['vaccination_ever'] == 'Yes'), : ].shape[0])\n",
    "print(data.loc[(data['vaccination_ever'] == 'Yes') & (data['nb_common_comorb_info'] > 0), : ].shape[0])\n",
    "print('\\n')\n",
    "\n",
    "print(data.loc[(data['vaccination_ever'] == 'No'), : ].shape[0])\n",
    "print(data.loc[(data['vaccination_ever'] == 'No') & (data['nb_common_comorb_info'] > 0), : ].shape[0])\n",
    "print('\\n')"
   ]
  },
  {
   "cell_type": "code",
   "execution_count": null,
   "id": "2009e5a1",
   "metadata": {},
   "outputs": [],
   "source": [
    "## Description of number of comorbidities present (by vaccination status)\n",
    "\n",
    "print(np.percentile(data.loc[(data['vaccination_ever'] == 'Yes') & \\\n",
    "                             (data['nb_common_comorb_info'] > 0),'nb_common_comorb_pos'], [50, 25, 75]))\n",
    "print(np.percentile(data.loc[(data['vaccination_ever'] == 'No') & \\\n",
    "                             (data['nb_common_comorb_info'] > 0),'nb_common_comorb_pos'], [50, 25, 75]))"
   ]
  },
  {
   "cell_type": "code",
   "execution_count": null,
   "id": "e023d367",
   "metadata": {},
   "outputs": [],
   "source": [
    "## Creating variable that indicate presence of 3 or more comorbidities\n",
    "\n",
    "data['three_comorb'] = np.nan\n",
    "data.loc[(data['nb_common_comorb_info'] >= 10) & (data['nb_common_comorb_pos'] < 3), 'three_comorb'] = 0\n",
    "data.loc[(data['nb_common_comorb_info'] >= 10) & (data['nb_common_comorb_pos'] >= 3), 'three_comorb'] = 1"
   ]
  },
  {
   "cell_type": "code",
   "execution_count": null,
   "id": "0040c731",
   "metadata": {},
   "outputs": [],
   "source": [
    "## Description - frequency of three or more comorbidities by vaccination status \n",
    "\n",
    "print(data['three_comorb'].value_counts())\n",
    "print('\\n')\n",
    "\n",
    "print(data.loc[(data['vaccination_ever'] == 'Yes'), 'three_comorb'].value_counts())\n",
    "print('\\n')\n",
    "\n",
    "print(data.loc[(data['vaccination_ever'] == 'No'), 'three_comorb'].value_counts())\n",
    "print('\\n')\n"
   ]
  },
  {
   "cell_type": "code",
   "execution_count": null,
   "id": "bbde5849",
   "metadata": {},
   "outputs": [],
   "source": [
    "## Frequency of three or more comorbidities by vaccination status and age categories\n",
    "\n",
    "\n",
    "print(data.loc[(data['vaccination_ever'] == 'Yes') & (data['age_cat'] == 0), 'three_comorb'].value_counts())\n",
    "print('\\n')\n",
    "\n",
    "print(data.loc[(data['vaccination_ever'] == 'No') & (data['age_cat'] == 0), 'three_comorb'].value_counts())\n",
    "print('\\n')\n",
    "\n",
    "print('\\n\\n')\n",
    "\n",
    "print(data.loc[(data['vaccination_ever'] == 'Yes') & (data['age_cat'] == 1), 'three_comorb'].value_counts())\n",
    "print('\\n')\n",
    "\n",
    "print(data.loc[(data['vaccination_ever'] == 'No') & (data['age_cat'] == 1), 'three_comorb'].value_counts())\n",
    "print('\\n')\n"
   ]
  },
  {
   "cell_type": "code",
   "execution_count": null,
   "id": "c9a8e5ef",
   "metadata": {},
   "outputs": [],
   "source": [
    "## Frequency of clinical outcome by vaccination status\n",
    "\n",
    "print(data.loc[data['vaccination_ever'] == 'Yes', 'outcome_28_num'].value_counts())\n",
    "print('\\n')\n",
    "      \n",
    "print(data.loc[data['vaccination_ever'] == 'No', 'outcome_28_num'].value_counts())\n",
    "print('\\n')"
   ]
  },
  {
   "cell_type": "code",
   "execution_count": null,
   "id": "0f998ad3",
   "metadata": {},
   "outputs": [],
   "source": [
    "## Frequency of outcome by vaccination status and age category\n",
    "\n",
    "mask_young_vacc = (data['age_cat'] == 0) & (data['vaccination_ever'] == 'Yes')\n",
    "mask_young_unvacc = (data['age_cat'] == 0) & (data['vaccination_ever'] == 'No')\n",
    "\n",
    "mask_old_vacc = (data['age_cat'] == 1) & (data['vaccination_ever'] == 'Yes')\n",
    "mask_old_unvacc = (data['age_cat'] == 1) & (data['vaccination_ever'] == 'No')\n",
    "\n",
    "print('mask_young_vacc')\n",
    "print(data.loc[mask_young_vacc, 'outcome_28_num'].value_counts())\n",
    "print('\\n')\n",
    "\n",
    "print('mask_young_unvacc')\n",
    "print(data.loc[mask_young_unvacc, 'outcome_28_num'].value_counts())\n",
    "print('\\n')\n",
    "\n",
    "print('mask_old_vacc')\n",
    "print(data.loc[mask_old_vacc, 'outcome_28_num'].value_counts())\n",
    "print('\\n')\n",
    "\n",
    "print('mask_old_unvacc')\n",
    "print(data.loc[mask_old_unvacc, 'outcome_28_num'].value_counts())\n",
    "print('\\n')"
   ]
  },
  {
   "cell_type": "code",
   "execution_count": null,
   "id": "a4799b27",
   "metadata": {},
   "outputs": [],
   "source": [
    "## Country-specific frequency of clinical outcome \n",
    "Data_outcome_country = pd.DataFrame(pd.crosstab(data['slider_country'], data['outcome_28_num']))\n",
    "Data_outcome_country \n"
   ]
  }
 ],
 "metadata": {
  "kernelspec": {
   "display_name": "Python 3 (ipykernel)",
   "language": "python",
   "name": "python3"
  },
  "language_info": {
   "codemirror_mode": {
    "name": "ipython",
    "version": 3
   },
   "file_extension": ".py",
   "mimetype": "text/x-python",
   "name": "python",
   "nbconvert_exporter": "python",
   "pygments_lexer": "ipython3",
   "version": "3.9.13"
  }
 },
 "nbformat": 4,
 "nbformat_minor": 5
}
